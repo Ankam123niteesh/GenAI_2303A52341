{
  "nbformat": 4,
  "nbformat_minor": 0,
  "metadata": {
    "colab": {
      "provenance": [],
      "authorship_tag": "ABX9TyMTn49Ei1DglmAvt/G1oYTO",
      "include_colab_link": true
    },
    "kernelspec": {
      "name": "python3",
      "display_name": "Python 3"
    },
    "language_info": {
      "name": "python"
    }
  },
  "cells": [
    {
      "cell_type": "markdown",
      "metadata": {
        "id": "view-in-github",
        "colab_type": "text"
      },
      "source": [
        "<a href=\"https://colab.research.google.com/github/Ankam123niteesh/GenAI_2303A52341/blob/main/2303A52341_GenAI_A2.ipynb\" target=\"_parent\"><img src=\"https://colab.research.google.com/assets/colab-badge.svg\" alt=\"Open In Colab\"/></a>"
      ]
    },
    {
      "cell_type": "markdown",
      "source": [
        "Question 1\n",
        "1.(1 ponto) Develop mathematical modeling for the given case study and find solution using Python\n",
        "Consider a chocolate manufacturing company that produces only two types of chocolate i.e. A and B. Both the chocolates require Milk and Choco only. To manufacture each unit of A and B, the following quantitiesaare\n",
        "\n",
        "required:\n",
        "\n",
        "Each unit of A requires 1 unit of Milk and 3 units of Choco\n",
        "\n",
        "Each unit of B requires 1 unit of Milk and 2 units of Choco\n",
        "\n",
        "The company kitchen has a total of 5 units of Milk and 12 units of Choco. On each sale, the company makes a profit of Rs 6 per ant A sold and Rs 5 per unit B sold.\n",
        "\n",
        "Now, the company wishes to maximize its profit. How many units of A and B should it produce respectively?"
      ],
      "metadata": {
        "id": "PbSFisXvtxlA"
      }
    },
    {
      "cell_type": "code",
      "execution_count": null,
      "metadata": {
        "colab": {
          "base_uri": "https://localhost:8080/"
        },
        "id": "Ufyu57pbKCC8",
        "outputId": "4f6d822e-30bb-4773-e0a9-c6014ec5a04f"
      },
      "outputs": [
        {
          "output_type": "stream",
          "name": "stdout",
          "text": [
            "Optimal solution:\n",
            "Number of units of A to produce: 2\n",
            "Number of units of B to produce: 3\n",
            "Maximum Profit: Rs 27\n"
          ]
        }
      ],
      "source": [
        "totalmilk = 5\n",
        "totalchoco = 12\n",
        "profitA = 6\n",
        "profitB = 5\n",
        "\n",
        "maxprofit = 0\n",
        "optimal_x1 = 0\n",
        "optimal_x2 = 0\n",
        "\n",
        "for x1 in range(totalmilk + 1):  # x1 can range from 0 to milk_available\n",
        "    for x2 in range(totalmilk + 1 - x1):  # x1 + x2 <= milk_available\n",
        "\n",
        "        if 3 * x1 + 2 * x2 <= totalchoco:\n",
        "            # Calculate profit\n",
        "            profit = profitA * x1 + profitB * x2\n",
        "\n",
        "            if profit > maxprofit:\n",
        "                maxprofit = profit\n",
        "                optimal_x1 = x1\n",
        "                optimal_x2 = x2\n",
        "\n",
        "# Print the results\n",
        "print(f\"Optimal solution:\")\n",
        "print(f\"Number of units of A to produce: {optimal_x1}\")\n",
        "print(f\"Number of units of B to produce: {optimal_x2}\")\n",
        "print(f\"Maximum Profit: Rs {maxprofit}\")\n"
      ]
    },
    {
      "cell_type": "markdown",
      "source": [
        "WITHOUT LIBRARIES"
      ],
      "metadata": {
        "id": "aGVH9MxMHyR5"
      }
    },
    {
      "cell_type": "code",
      "source": [
        "from scipy.optimize import linprog\n",
        "import numpy as np\n",
        "import math as mt"
      ],
      "metadata": {
        "id": "bXolO6Yst3Ar"
      },
      "execution_count": null,
      "outputs": []
    },
    {
      "cell_type": "code",
      "source": [
        "obj=[-6,-5]\n",
        "A=[[1,1],[3,2]]\n",
        "B=[5,12]"
      ],
      "metadata": {
        "id": "6gZNrCLot8tq"
      },
      "execution_count": null,
      "outputs": []
    },
    {
      "cell_type": "code",
      "source": [
        "bounds=[(0,float('inf')),(0,float('inf'))]\n",
        "opt=linprog(c=obj,A_ub=A,b_ub=B,bounds=bounds)\n",
        "choco=np.round(opt.x)\n",
        "print(f\"No.of A={choco[0]} B={choco[1]}\")\n",
        "A_units, B_units = opt.x\n",
        "print(f\"There company can produce \")\n",
        "print(f\"Optimal solution: No. of A = {choco[0]}, No. of B = {choco[1]}\")\n",
        "print(f\"Maximum profit: Rs {int(-opt.fun)}\")"
      ],
      "metadata": {
        "colab": {
          "base_uri": "https://localhost:8080/"
        },
        "id": "e0aWcwZxuAS4",
        "outputId": "ebe71ea9-4acd-4cc3-a67f-6f82c1e51b4e"
      },
      "execution_count": null,
      "outputs": [
        {
          "output_type": "stream",
          "name": "stdout",
          "text": [
            "No.of A=2.0 B=3.0\n",
            "There company can produce \n",
            "Optimal solution: No. of A = 2.0, No. of B = 3.0\n",
            "Maximum profit: Rs 27\n"
          ]
        }
      ]
    },
    {
      "cell_type": "markdown",
      "source": [
        "Question 2\n",
        "2.(1 ponto) Develop mathematical modeling for the given case study and find solution using python\n",
        "A farmer has recently acquired a 110 hectares piece of land. He has decided to grow Wheat and barley on that land. Due to the quality of the sun and the region's excellent climate, the entire production of Wheat and Barley can be sold. He wants to know how to plang each variety in the 110 hectares, given the costs, net profits and labor requirements according to the data shown below:\n",
        "\n",
        "image.png\n",
        "\n",
        "The farmer has a budget of Rs. 7,00,000 and availability of 1,200 man-days during the planning horizon. Find the optimal solution and the optimal value."
      ],
      "metadata": {
        "id": "r5N0vedouvKW"
      }
    },
    {
      "cell_type": "code",
      "source": [
        "max_profit=0\n",
        "x3=0\n",
        "y3=0\n",
        "for x in range(111):\n",
        "    for y in range(111):\n",
        "        if x + y == 110 or 7000 * x + 2000 * y == 700000 or 10 * x + 30 * y == 1200:\n",
        "            if x + y <= 110 and 7000 * x + 2000 * y <= 700000 and 10 * x + 30 * y <= 1200:\n",
        "                profit = 50 * x + 120 * y\n",
        "                if profit > max_profit:\n",
        "                    max_profit = profit\n",
        "                    x3 = x\n",
        "                    y3 = y\n",
        "\n",
        "\n",
        "print(\"Optimal number of hectares for Wheat:\", x3)\n",
        "print(\"Optimal number of hectares for Barley:\", y3)\n",
        "print(\"Maximum profit:\", max_profit)"
      ],
      "metadata": {
        "colab": {
          "base_uri": "https://localhost:8080/"
        },
        "id": "rTzIRMfEHB1L",
        "outputId": "dc67bd34-9948-4f39-f5a0-e8c5794cc035"
      },
      "execution_count": null,
      "outputs": [
        {
          "output_type": "stream",
          "name": "stdout",
          "text": [
            "Optimal number of hectares for Wheat: 96\n",
            "Optimal number of hectares for Barley: 8\n",
            "Maximum profit: 5760\n"
          ]
        }
      ]
    }
  ]
}