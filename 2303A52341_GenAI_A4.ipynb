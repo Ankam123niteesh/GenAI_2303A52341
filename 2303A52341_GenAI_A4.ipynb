{
  "nbformat": 4,
  "nbformat_minor": 0,
  "metadata": {
    "colab": {
      "provenance": [],
      "authorship_tag": "ABX9TyOl7QPXw/Aa8Jl02cL2lWpA",
      "include_colab_link": true
    },
    "kernelspec": {
      "name": "python3",
      "display_name": "Python 3"
    },
    "language_info": {
      "name": "python"
    }
  },
  "cells": [
    {
      "cell_type": "markdown",
      "metadata": {
        "id": "view-in-github",
        "colab_type": "text"
      },
      "source": [
        "<a href=\"https://colab.research.google.com/github/Ankam123niteesh/GenAI_2303A52341/blob/main/2303A52341_GenAI_A4.ipynb\" target=\"_parent\"><img src=\"https://colab.research.google.com/assets/colab-badge.svg\" alt=\"Open In Colab\"/></a>"
      ]
    },
    {
      "cell_type": "markdown",
      "source": [
        "(1 ponto) Design a simple ANN architecture with one input and one output layer (no hidden layer). Assume a linear activation function in the output layer. • Write Python code for a backpropagation algorithm with gradient descent optimization to update weights and bias parameters of the ANN model with training data shown in Table\n",
        "\n",
        "• Calculate the mean square error with training and testing data shown in Table 2. • Write Python code that reads the input data [x1, x2, and x3] from the user. Predict the output with deployed ANN model Tabela 1: Training Data x1 x2 x3 y 0.1 0.2 0.3 0.14 0.2 0.3 0.4 0.20 0.3 0.4 0.5 0.26 0.5 0.6 0.7 0.38 0.1 0.3 0.5 0.22 0.2 0.4 0.6 0.28 0.3 0.5 0.7 0.34 0.4 0.6 0.8 0.40 0.5 0.7 0.1 0.22 Tabela 2: Test Data x1 x2 x3 y 0.6 0.7 0.8 0.44 0.7 0.8 0.9 0.5"
      ],
      "metadata": {
        "id": "biVaAwJHwLRM"
      }
    },
    {
      "cell_type": "code",
      "execution_count": 1,
      "metadata": {
        "colab": {
          "base_uri": "https://localhost:8080/"
        },
        "id": "bE628DIevXUy",
        "outputId": "37be2da5-1a6b-483a-b59d-d04cd8c2d21d"
      },
      "outputs": [
        {
          "output_type": "stream",
          "name": "stdout",
          "text": [
            "W: [0.0293 0.4737 0.313 ] | B: -0.1109\n",
            "Train MSE: 0.0012\n",
            "Test MSE: 0.0037\n",
            "Enter x1 x2 x3: 23 90000 2\n",
            "Predicted: 42635.0056\n"
          ]
        }
      ],
      "source": [
        "import numpy as np\n",
        "X = np.array([\n",
        "    [0.1, 0.2, 0.3], [0.2, 0.3, 0.4], [0.3, 0.4, 0.5],\n",
        "    [0.5, 0.6, 0.7], [0.1, 0.3, 0.5], [0.2, 0.4, 0.6],\n",
        "    [0.3, 0.5, 0.7], [0.4, 0.6, 0.8], [0.5, 0.7, 0.1]\n",
        "])\n",
        "y = np.array([0.14, 0.20, 0.26, 0.38, 0.22, 0.28, 0.34, 0.40, 0.22])\n",
        "\n",
        "X_test = np.array([[0.6, 0.7, 0.8], [0.7, 0.8, 0.9]])\n",
        "y_test = np.array([0.44, 0.50])\n",
        "np.random.seed(42)\n",
        "w, b = np.random.rand(3), np.random.rand()\n",
        "lr, epochs = 0.01, 1000\n",
        "for _ in range(epochs):\n",
        "    pred = np.dot(X, w) + b\n",
        "    err = pred - y\n",
        "    w -= lr * (2 / len(X)) * np.dot(X.T, err)\n",
        "    b -= lr * (2 / len(X)) * np.sum(err)\n",
        "mse = lambda y, p: np.mean((y - p) ** 2)\n",
        "print(f\"W: {w.round(4)} | B: {b:.4f}\")\n",
        "print(f\"Train MSE: {mse(y, np.dot(X, w) + b):.4f}\")\n",
        "print(f\"Test MSE: {mse(y_test, np.dot(X_test, w) + b):.4f}\")\n",
        "x1, x2, x3 = map(float, input(\"Enter x1 x2 x3: \").split())\n",
        "print(f\"Predicted: {(np.dot([x1, x2, x3], w) + b):.4f}\")"
      ]
    },
    {
      "cell_type": "markdown",
      "source": [
        "(1 ponto) Design a simple ANN architecture with one input and one output layer (no hidden layer). Assume a sigmoid activation function shown in the equation 1 in the output layer. f(x) = 1 1 +e−x (1) • Write Python code for a backpropagation algorithm with gradient descent optimization to update weights and bias parameters of the ANN model with training data shown in Table 3. ©Dr. Venkataramana Veeramsetty, Professor Pag. 1 de 2 II- B.Tech (CS& AI) Tabela 3: Training Data Generative AI- Assignment- 4 x1 x2 x3 y 0.1 0.2 0.3 0.5349 0.2 0.3 0.4 0.5498 0.3 0.4 0.5 0.5646 0.5 0.6 0.7 0.5939 0.1 0.3 0.5 0.5548 0.2 0.4 0.6 0.5695 0.3 0.5 0.7 0.5842 0.4 0.6 0.8 0.5987 0.5 0.7 0.1 0.5548 Tabela 4: Test Data x1 x2 x3 y 0.6 0.7 0.8 0.6083 0.7 0.8 0.9 0.6225 • Calculate the mean square error with training and testing data shown in Table 4. • Write Python code that reads the input data [x1, x2, and x3] from the user. Predict the output with deployed ANN mode"
      ],
      "metadata": {
        "id": "jzO7-EzFwZI5"
      }
    },
    {
      "cell_type": "code",
      "source": [
        "import numpy as np\n",
        "sig = lambda x: 1 / (1 + np.exp(-x))\n",
        "dsig = lambda x: sig(x) * (1 - sig(x))\n",
        "mse = lambda y, p: np.mean((y - p) ** 2)\n",
        "data = np.array([\n",
        "    [0.1, 0.2, 0.3, 0.5349], [0.2, 0.3, 0.4, 0.5498], [0.3, 0.4, 0.5, 0.5646],\n",
        "    [0.5, 0.6, 0.7, 0.5939], [0.1, 0.3, 0.5, 0.5548], [0.2, 0.4, 0.6, 0.5695],\n",
        "    [0.3, 0.5, 0.7, 0.5842], [0.4, 0.6, 0.8, 0.5987], [0.5, 0.7, 0.1, 0.5548]\n",
        "])\n",
        "\n",
        "test = np.array([[0.6, 0.7, 0.8, 0.6083], [0.7, 0.8, 0.9, 0.6225]])\n",
        "\n",
        "X, Y = data[:, :3], data[:, 3]\n",
        "Xt, Yt = test[:, :3], test[:, 3]\n",
        "np.random.seed(42)\n",
        "w, b = np.random.rand(3), np.random.rand()\n",
        "lr, epochs = 0.1, 1000\n",
        "for _ in range(epochs):\n",
        "    for x, y in zip(X, Y):\n",
        "        z, p = np.dot(w, x) + b, sig(np.dot(w, x) + b)\n",
        "        e = y - p\n",
        "        dw, db = e * dsig(z) * x, e * dsig(z)\n",
        "        w, b = w + lr * dw, b + lr * db\n",
        "print(f\"Train MSE: {mse(Y, sig(np.dot(X, w) + b)):.4f}\")\n",
        "print(f\"Test MSE: {mse(Yt, sig(np.dot(Xt, w) + b)):.4f}\")\n",
        "x1, x2, x3 = map(float, input(\"Enter x1 x2 x3: \").split())\n",
        "print(f\"Predicted: {sig(np.dot([x1, x2, x3], w) + b):.4f}\")"
      ],
      "metadata": {
        "colab": {
          "base_uri": "https://localhost:8080/"
        },
        "id": "haurm8aFvgoK",
        "outputId": "f30b29eb-e143-4915-daeb-9ba84ea99dd1"
      },
      "execution_count": 2,
      "outputs": [
        {
          "output_type": "stream",
          "name": "stdout",
          "text": [
            "Train MSE: 0.0000\n",
            "Test MSE: 0.0000\n",
            "Enter x1 x2 x3: 23 500 50000\n",
            "Predicted: 1.0000\n"
          ]
        }
      ]
    }
  ]
}